{
 "cells": [
  {
   "cell_type": "code",
   "execution_count": 1,
   "id": "662846e6",
   "metadata": {
    "_cell_guid": "b1076dfc-b9ad-4769-8c92-a6c4dae69d19",
    "_uuid": "8f2839f25d086af736a60e9eeb907d3b93b6e0e5",
    "execution": {
     "iopub.execute_input": "2024-05-06T17:08:25.854922Z",
     "iopub.status.busy": "2024-05-06T17:08:25.854541Z",
     "iopub.status.idle": "2024-05-06T17:08:26.695316Z",
     "shell.execute_reply": "2024-05-06T17:08:26.694326Z"
    },
    "papermill": {
     "duration": 0.850838,
     "end_time": "2024-05-06T17:08:26.697754",
     "exception": false,
     "start_time": "2024-05-06T17:08:25.846916",
     "status": "completed"
    },
    "tags": []
   },
   "outputs": [],
   "source": [
    "import numpy as np \n",
    "import pandas as pd \n",
    "import re\n",
    "import string\n",
    "import matplotlib as mpl\n",
    "import matplotlib.pyplot as plt\n",
    "from tqdm import tqdm"
   ]
  },
  {
   "cell_type": "code",
   "execution_count": 2,
   "id": "34a14758",
   "metadata": {
    "execution": {
     "iopub.execute_input": "2024-05-06T17:08:26.709819Z",
     "iopub.status.busy": "2024-05-06T17:08:26.709308Z",
     "iopub.status.idle": "2024-05-06T17:08:27.232733Z",
     "shell.execute_reply": "2024-05-06T17:08:27.231479Z"
    },
    "papermill": {
     "duration": 0.532081,
     "end_time": "2024-05-06T17:08:27.235140",
     "exception": false,
     "start_time": "2024-05-06T17:08:26.703059",
     "status": "completed"
    },
    "tags": []
   },
   "outputs": [
    {
     "data": {
      "text/html": [
       "<div>\n",
       "<style scoped>\n",
       "    .dataframe tbody tr th:only-of-type {\n",
       "        vertical-align: middle;\n",
       "    }\n",
       "\n",
       "    .dataframe tbody tr th {\n",
       "        vertical-align: top;\n",
       "    }\n",
       "\n",
       "    .dataframe thead th {\n",
       "        text-align: right;\n",
       "    }\n",
       "</style>\n",
       "<table border=\"1\" class=\"dataframe\">\n",
       "  <thead>\n",
       "    <tr style=\"text-align: right;\">\n",
       "      <th></th>\n",
       "      <th>Rank</th>\n",
       "      <th>Name Song</th>\n",
       "      <th>Artist</th>\n",
       "      <th>Peak Rank</th>\n",
       "      <th>Previous Rank</th>\n",
       "      <th>Weeks On Chart</th>\n",
       "      <th>Streaming</th>\n",
       "      <th>Uri</th>\n",
       "      <th>Lyrics</th>\n",
       "      <th>Lyrics Cleaned Ver1</th>\n",
       "      <th>Lyrics Translated</th>\n",
       "      <th>Unnamed: 11</th>\n",
       "    </tr>\n",
       "  </thead>\n",
       "  <tbody>\n",
       "    <tr>\n",
       "      <th>0</th>\n",
       "      <td>1</td>\n",
       "      <td>Like Crazy</td>\n",
       "      <td>Jimin</td>\n",
       "      <td>1</td>\n",
       "      <td>2</td>\n",
       "      <td>56</td>\n",
       "      <td>2116360</td>\n",
       "      <td>https://open.spotify.com/track/3Ua0m0YmEjrMi9X...</td>\n",
       "      <td>[Intro]\\n(I think we could last forever)(I'm a...</td>\n",
       "      <td>She's saying,  Baby, come and follow me \\nTher...</td>\n",
       "      <td>“เธอพูดว่า ที่รัก มาตามฉันมาสิ”\\nคืนนี้ไม่มีอะ...</td>\n",
       "      <td>NaN</td>\n",
       "    </tr>\n",
       "    <tr>\n",
       "      <th>1</th>\n",
       "      <td>2</td>\n",
       "      <td>Standing Next to You</td>\n",
       "      <td>Jung Kook</td>\n",
       "      <td>1</td>\n",
       "      <td>3</td>\n",
       "      <td>7</td>\n",
       "      <td>2036630</td>\n",
       "      <td>https://open.spotify.com/track/2KslE17cAJNHTsI...</td>\n",
       "      <td>Standing next to you\\nPlay me slow\\nI push up ...</td>\n",
       "      <td>Standing next to you\\nPlay me slow\\nI push up ...</td>\n",
       "      <td>ยืนอยู่ข้าง ๆ คุณ\\nเล่นฉันช้า ๆ\\nฉันผลักดันควา...</td>\n",
       "      <td>NaN</td>\n",
       "    </tr>\n",
       "    <tr>\n",
       "      <th>2</th>\n",
       "      <td>3</td>\n",
       "      <td>FRI(END)S</td>\n",
       "      <td>V</td>\n",
       "      <td>1</td>\n",
       "      <td>1</td>\n",
       "      <td>5</td>\n",
       "      <td>1862164</td>\n",
       "      <td>https://open.spotify.com/track/0PBTlQ84CBJF0tB...</td>\n",
       "      <td>(Friends)\\nOoh\\n \\nYou're in my head\\nI had pl...</td>\n",
       "      <td>(Friends)\\n\\nYou're in my head\\nI had plans fo...</td>\n",
       "      <td>(เพื่อน)\\n\\nคุณอยู่ในหัวของฉัน\\nฉันมีแผนสำหรับ...</td>\n",
       "      <td>NaN</td>\n",
       "    </tr>\n",
       "    <tr>\n",
       "      <th>3</th>\n",
       "      <td>4</td>\n",
       "      <td>Love Me Again</td>\n",
       "      <td>V</td>\n",
       "      <td>1</td>\n",
       "      <td>5</td>\n",
       "      <td>36</td>\n",
       "      <td>1632169</td>\n",
       "      <td>https://open.spotify.com/track/2N0SPREDYqILVEF...</td>\n",
       "      <td>[Verse 1]\\nYou left me\\nTook those memories wi...</td>\n",
       "      <td>\\nYou left me\\nTook those memories with you\\nB...</td>\n",
       "      <td>คุณทิ้งฉัน\\nได้นำความทรงจำเหล่านั้นติดตัวไปด้ว...</td>\n",
       "      <td>NaN</td>\n",
       "    </tr>\n",
       "    <tr>\n",
       "      <th>4</th>\n",
       "      <td>5</td>\n",
       "      <td>Nightwalker</td>\n",
       "      <td>TEN</td>\n",
       "      <td>2</td>\n",
       "      <td>4</td>\n",
       "      <td>10</td>\n",
       "      <td>1280779</td>\n",
       "      <td>https://open.spotify.com/track/4RiudH8RehvLLrk...</td>\n",
       "      <td>Oh, nearing the hour\\nSo I been waiting so lon...</td>\n",
       "      <td>nearing the hour\\nSo I been waiting so long\\nH...</td>\n",
       "      <td>ใกล้ชั่วโมง\\nฉันจึงรอมานานมาก\\nซ่อนพลังของฉัน\\...</td>\n",
       "      <td>NaN</td>\n",
       "    </tr>\n",
       "  </tbody>\n",
       "</table>\n",
       "</div>"
      ],
      "text/plain": [
       "   Rank             Name Song     Artist  Peak Rank Previous Rank  \\\n",
       "0     1            Like Crazy      Jimin          1             2   \n",
       "1     2  Standing Next to You  Jung Kook          1             3   \n",
       "2     3             FRI(END)S          V          1             1   \n",
       "3     4         Love Me Again          V          1             5   \n",
       "4     5           Nightwalker        TEN          2             4   \n",
       "\n",
       "   Weeks On Chart  Streaming  \\\n",
       "0              56    2116360   \n",
       "1               7    2036630   \n",
       "2               5    1862164   \n",
       "3              36    1632169   \n",
       "4              10    1280779   \n",
       "\n",
       "                                                 Uri  \\\n",
       "0  https://open.spotify.com/track/3Ua0m0YmEjrMi9X...   \n",
       "1  https://open.spotify.com/track/2KslE17cAJNHTsI...   \n",
       "2  https://open.spotify.com/track/0PBTlQ84CBJF0tB...   \n",
       "3  https://open.spotify.com/track/2N0SPREDYqILVEF...   \n",
       "4  https://open.spotify.com/track/4RiudH8RehvLLrk...   \n",
       "\n",
       "                                              Lyrics  \\\n",
       "0  [Intro]\\n(I think we could last forever)(I'm a...   \n",
       "1  Standing next to you\\nPlay me slow\\nI push up ...   \n",
       "2  (Friends)\\nOoh\\n \\nYou're in my head\\nI had pl...   \n",
       "3  [Verse 1]\\nYou left me\\nTook those memories wi...   \n",
       "4  Oh, nearing the hour\\nSo I been waiting so lon...   \n",
       "\n",
       "                                 Lyrics Cleaned Ver1  \\\n",
       "0  She's saying,  Baby, come and follow me \\nTher...   \n",
       "1  Standing next to you\\nPlay me slow\\nI push up ...   \n",
       "2  (Friends)\\n\\nYou're in my head\\nI had plans fo...   \n",
       "3  \\nYou left me\\nTook those memories with you\\nB...   \n",
       "4  nearing the hour\\nSo I been waiting so long\\nH...   \n",
       "\n",
       "                                   Lyrics Translated Unnamed: 11  \n",
       "0  “เธอพูดว่า ที่รัก มาตามฉันมาสิ”\\nคืนนี้ไม่มีอะ...         NaN  \n",
       "1  ยืนอยู่ข้าง ๆ คุณ\\nเล่นฉันช้า ๆ\\nฉันผลักดันควา...         NaN  \n",
       "2  (เพื่อน)\\n\\nคุณอยู่ในหัวของฉัน\\nฉันมีแผนสำหรับ...         NaN  \n",
       "3  คุณทิ้งฉัน\\nได้นำความทรงจำเหล่านั้นติดตัวไปด้ว...         NaN  \n",
       "4  ใกล้ชั่วโมง\\nฉันจึงรอมานานมาก\\nซ่อนพลังของฉัน\\...         NaN  "
      ]
     },
     "execution_count": 2,
     "metadata": {},
     "output_type": "execute_result"
    }
   ],
   "source": [
    "df = pd.read_excel('/kaggle/input/song-th-en-200/Top_song_200_4_27_24 (1).xlsx')   ###\n",
    "df.head()"
   ]
  },
  {
   "cell_type": "markdown",
   "id": "6b3403e6",
   "metadata": {
    "papermill": {
     "duration": 0.005178,
     "end_time": "2024-05-06T17:08:27.245891",
     "exception": false,
     "start_time": "2024-05-06T17:08:27.240713",
     "status": "completed"
    },
    "tags": []
   },
   "source": [
    "## preprocessing"
   ]
  },
  {
   "cell_type": "code",
   "execution_count": 3,
   "id": "53e637e7",
   "metadata": {
    "execution": {
     "iopub.execute_input": "2024-05-06T17:08:27.258593Z",
     "iopub.status.busy": "2024-05-06T17:08:27.258056Z",
     "iopub.status.idle": "2024-05-06T17:08:27.263687Z",
     "shell.execute_reply": "2024-05-06T17:08:27.262804Z"
    },
    "papermill": {
     "duration": 0.014589,
     "end_time": "2024-05-06T17:08:27.265810",
     "exception": false,
     "start_time": "2024-05-06T17:08:27.251221",
     "status": "completed"
    },
    "tags": []
   },
   "outputs": [],
   "source": [
    "def lang_detect(txt):\n",
    "    lang = set()\n",
    "    for char in str(txt):\n",
    "        if '\\u0e00' <= char <= '\\u0e7f':  # Thai\n",
    "            lang.add('th')\n",
    "        elif char.isalpha():  # Default to English\n",
    "            lang.add('en')\n",
    "    if len(lang) == 2:\n",
    "        return  'th en'\n",
    "    else:\n",
    "        return list(lang)[0]"
   ]
  },
  {
   "cell_type": "code",
   "execution_count": 4,
   "id": "5ca23300",
   "metadata": {
    "execution": {
     "iopub.execute_input": "2024-05-06T17:08:27.278487Z",
     "iopub.status.busy": "2024-05-06T17:08:27.278088Z",
     "iopub.status.idle": "2024-05-06T17:08:27.332489Z",
     "shell.execute_reply": "2024-05-06T17:08:27.331372Z"
    },
    "papermill": {
     "duration": 0.063469,
     "end_time": "2024-05-06T17:08:27.334822",
     "exception": false,
     "start_time": "2024-05-06T17:08:27.271353",
     "status": "completed"
    },
    "tags": []
   },
   "outputs": [
    {
     "data": {
      "text/plain": [
       "lang\n",
       "th       104\n",
       "en        63\n",
       "th en     33\n",
       "Name: count, dtype: int64"
      ]
     },
     "execution_count": 4,
     "metadata": {},
     "output_type": "execute_result"
    }
   ],
   "source": [
    "df['lang'] = df['Lyrics Cleaned Ver1'].apply(lang_detect)\n",
    "df['lang'].value_counts()"
   ]
  },
  {
   "cell_type": "code",
   "execution_count": 5,
   "id": "3771ef1c",
   "metadata": {
    "execution": {
     "iopub.execute_input": "2024-05-06T17:08:27.347236Z",
     "iopub.status.busy": "2024-05-06T17:08:27.346892Z",
     "iopub.status.idle": "2024-05-06T17:08:27.365752Z",
     "shell.execute_reply": "2024-05-06T17:08:27.364669Z"
    },
    "papermill": {
     "duration": 0.027943,
     "end_time": "2024-05-06T17:08:27.368050",
     "exception": false,
     "start_time": "2024-05-06T17:08:27.340107",
     "status": "completed"
    },
    "tags": []
   },
   "outputs": [
    {
     "data": {
      "text/html": [
       "<div>\n",
       "<style scoped>\n",
       "    .dataframe tbody tr th:only-of-type {\n",
       "        vertical-align: middle;\n",
       "    }\n",
       "\n",
       "    .dataframe tbody tr th {\n",
       "        vertical-align: top;\n",
       "    }\n",
       "\n",
       "    .dataframe thead th {\n",
       "        text-align: right;\n",
       "    }\n",
       "</style>\n",
       "<table border=\"1\" class=\"dataframe\">\n",
       "  <thead>\n",
       "    <tr style=\"text-align: right;\">\n",
       "      <th></th>\n",
       "      <th>Name Song</th>\n",
       "      <th>Lyrics Cleaned Ver1</th>\n",
       "    </tr>\n",
       "  </thead>\n",
       "  <tbody>\n",
       "    <tr>\n",
       "      <th>0</th>\n",
       "      <td>เผื่อวันไหนเธอจะกลับมา</td>\n",
       "      <td>เธอจากไปตั้งนาน เธอมีใครเข้ามา\\nเราเดินแยกทาง ...</td>\n",
       "    </tr>\n",
       "    <tr>\n",
       "      <th>1</th>\n",
       "      <td>เพลงที่เธอไม่ฟัง</td>\n",
       "      <td>รู้สึกยังไงเก็บเอาไว้ไม่เคยคิดจะบอก\\nเอ่ยปากตร...</td>\n",
       "    </tr>\n",
       "    <tr>\n",
       "      <th>2</th>\n",
       "      <td>จำนน (White Flag)</td>\n",
       "      <td>ไม่รู้ว่านานเท่าไหร่ก็จำไม่ได้นัก\\nที่ฉันจำเป็...</td>\n",
       "    </tr>\n",
       "    <tr>\n",
       "      <th>3</th>\n",
       "      <td>เมร่อน</td>\n",
       "      <td>เพื่อนฉันล่ะคนนี้ มันชื่ออีเมอะหอยใหญ่\\nน่ารัก...</td>\n",
       "    </tr>\n",
       "    <tr>\n",
       "      <th>4</th>\n",
       "      <td>ดาวหางฮัลเลย์</td>\n",
       "      <td>ระหว่างที่มีดาวดวงนึงโคจรในอวกาศ\\nจากวันนั้นฉั...</td>\n",
       "    </tr>\n",
       "  </tbody>\n",
       "</table>\n",
       "</div>"
      ],
      "text/plain": [
       "                Name Song                                Lyrics Cleaned Ver1\n",
       "0  เผื่อวันไหนเธอจะกลับมา  เธอจากไปตั้งนาน เธอมีใครเข้ามา\\nเราเดินแยกทาง ...\n",
       "1        เพลงที่เธอไม่ฟัง  รู้สึกยังไงเก็บเอาไว้ไม่เคยคิดจะบอก\\nเอ่ยปากตร...\n",
       "2       จำนน (White Flag)  ไม่รู้ว่านานเท่าไหร่ก็จำไม่ได้นัก\\nที่ฉันจำเป็...\n",
       "3                  เมร่อน  เพื่อนฉันล่ะคนนี้ มันชื่ออีเมอะหอยใหญ่\\nน่ารัก...\n",
       "4           ดาวหางฮัลเลย์  ระหว่างที่มีดาวดวงนึงโคจรในอวกาศ\\nจากวันนั้นฉั..."
      ]
     },
     "execution_count": 5,
     "metadata": {},
     "output_type": "execute_result"
    }
   ],
   "source": [
    "thai_df = df[df['lang'] == 'th'][['Name Song','Lyrics Cleaned Ver1']]\n",
    "thai_df = thai_df.reset_index().iloc[:,1:]\n",
    "thai_df.head()"
   ]
  },
  {
   "cell_type": "code",
   "execution_count": 6,
   "id": "543f7875",
   "metadata": {
    "execution": {
     "iopub.execute_input": "2024-05-06T17:08:27.381328Z",
     "iopub.status.busy": "2024-05-06T17:08:27.380936Z",
     "iopub.status.idle": "2024-05-06T17:08:42.080828Z",
     "shell.execute_reply": "2024-05-06T17:08:42.079282Z"
    },
    "papermill": {
     "duration": 14.709822,
     "end_time": "2024-05-06T17:08:42.083639",
     "exception": false,
     "start_time": "2024-05-06T17:08:27.373817",
     "status": "completed"
    },
    "tags": []
   },
   "outputs": [
    {
     "name": "stdout",
     "output_type": "stream",
     "text": [
      "Collecting pythainlp\r\n",
      "  Downloading pythainlp-5.0.2-py3-none-any.whl.metadata (7.7 kB)\r\n",
      "Requirement already satisfied: requests>=2.22.0 in /opt/conda/lib/python3.10/site-packages (from pythainlp) (2.31.0)\r\n",
      "Requirement already satisfied: charset-normalizer<4,>=2 in /opt/conda/lib/python3.10/site-packages (from requests>=2.22.0->pythainlp) (3.3.2)\r\n",
      "Requirement already satisfied: idna<4,>=2.5 in /opt/conda/lib/python3.10/site-packages (from requests>=2.22.0->pythainlp) (3.6)\r\n",
      "Requirement already satisfied: urllib3<3,>=1.21.1 in /opt/conda/lib/python3.10/site-packages (from requests>=2.22.0->pythainlp) (1.26.18)\r\n",
      "Requirement already satisfied: certifi>=2017.4.17 in /opt/conda/lib/python3.10/site-packages (from requests>=2.22.0->pythainlp) (2024.2.2)\r\n",
      "Downloading pythainlp-5.0.2-py3-none-any.whl (17.9 MB)\r\n",
      "\u001b[2K   \u001b[90m━━━━━━━━━━━━━━━━━━━━━━━━━━━━━━━━━━━━━━━━\u001b[0m \u001b[32m17.9/17.9 MB\u001b[0m \u001b[31m62.4 MB/s\u001b[0m eta \u001b[36m0:00:00\u001b[0m\r\n",
      "\u001b[?25hInstalling collected packages: pythainlp\r\n",
      "Successfully installed pythainlp-5.0.2\r\n"
     ]
    }
   ],
   "source": [
    "!pip install pythainlp"
   ]
  },
  {
   "cell_type": "code",
   "execution_count": 7,
   "id": "77f02856",
   "metadata": {
    "execution": {
     "iopub.execute_input": "2024-05-06T17:08:42.099606Z",
     "iopub.status.busy": "2024-05-06T17:08:42.098324Z",
     "iopub.status.idle": "2024-05-06T17:08:45.111177Z",
     "shell.execute_reply": "2024-05-06T17:08:45.110276Z"
    },
    "papermill": {
     "duration": 3.023552,
     "end_time": "2024-05-06T17:08:45.113725",
     "exception": false,
     "start_time": "2024-05-06T17:08:42.090173",
     "status": "completed"
    },
    "tags": []
   },
   "outputs": [],
   "source": [
    "import re\n",
    "import string\n",
    "import matplotlib as mpl\n",
    "import matplotlib.pyplot as plt\n",
    "\n",
    "from pythainlp.corpus import (thai_stopwords, \n",
    "                              thai_words,\n",
    "                              thai_syllables,\n",
    "                             thai_negations,\n",
    "                             thai_orst_words)\n",
    "from pythainlp.corpus.ttc import word_freqs\n",
    "from pythainlp.tokenize import word_tokenize\n",
    "from pythainlp.util import normalize\n",
    "from collections import Counter\n",
    "from tqdm import tqdm\n",
    "from pythainlp.tokenize import word_tokenize as thai_word_tokenize"
   ]
  },
  {
   "cell_type": "code",
   "execution_count": 8,
   "id": "5c0507b1",
   "metadata": {
    "execution": {
     "iopub.execute_input": "2024-05-06T17:08:45.128355Z",
     "iopub.status.busy": "2024-05-06T17:08:45.127950Z",
     "iopub.status.idle": "2024-05-06T17:08:45.172668Z",
     "shell.execute_reply": "2024-05-06T17:08:45.171752Z"
    },
    "papermill": {
     "duration": 0.054919,
     "end_time": "2024-05-06T17:08:45.175046",
     "exception": false,
     "start_time": "2024-05-06T17:08:45.120127",
     "status": "completed"
    },
    "tags": []
   },
   "outputs": [],
   "source": [
    "def clean_thai(text):\n",
    "    text = re.sub(r'[\\n\\rๆ]',' ',text)\n",
    "    text = re.sub(r'\\s+',' ',text)\n",
    "    translator = str.maketrans(\"\", \"\", string.punctuation)\n",
    "\n",
    "    # Apply the translation table to the input string\n",
    "    result = text.translate(translator)\n",
    "    return result\n",
    "\n",
    "words = set(thai_words())\n",
    "freqswords = word_freqs()\n",
    "freq = 1000 #Set frequency\n",
    "freqsResults = []\n",
    "\n",
    "for line in list(freqswords):\n",
    "    if line[1] >= freq: #More than threshold means frequency\n",
    "        freqsResults.append(line[0])\n",
    "\n",
    "def prepare_thai(text):\n",
    "    # Tokenization\n",
    "    tokens = thai_word_tokenize(text, engine='newmm')\n",
    "\n",
    "    # Remove stopwords\n",
    "    stop_words = set()\n",
    "    tokens = [token for token in tokens if token not in stop_words and len(token)>1]\n",
    "    tokens = [token for token in tokens if token in words]\n",
    "\n",
    "    return ' '.join(tokens)\n",
    "\n",
    "def seperate_txt(text):\n",
    "    max_length = 1000\n",
    "    split_text = []\n",
    "    current_chunk = \"\"\n",
    "\n",
    "    for word in text.split():\n",
    "        if len(current_chunk) + len(word) < max_length:\n",
    "            if current_chunk:\n",
    "                current_chunk += \" \" + word\n",
    "            else:\n",
    "                current_chunk = word\n",
    "        else:\n",
    "            split_text.append(current_chunk)\n",
    "            current_chunk = word\n",
    "\n",
    "    # Append the last chunk\n",
    "    if current_chunk:\n",
    "        split_text.append(current_chunk)\n",
    "        \n",
    "    return split_text"
   ]
  },
  {
   "cell_type": "code",
   "execution_count": 9,
   "id": "973ff33a",
   "metadata": {
    "execution": {
     "iopub.execute_input": "2024-05-06T17:08:45.189663Z",
     "iopub.status.busy": "2024-05-06T17:08:45.189310Z",
     "iopub.status.idle": "2024-05-06T17:08:45.559077Z",
     "shell.execute_reply": "2024-05-06T17:08:45.558053Z"
    },
    "papermill": {
     "duration": 0.380072,
     "end_time": "2024-05-06T17:08:45.561547",
     "exception": false,
     "start_time": "2024-05-06T17:08:45.181475",
     "status": "completed"
    },
    "tags": []
   },
   "outputs": [],
   "source": [
    "thai_df['token'] = thai_df['Lyrics Cleaned Ver1'].apply(clean_thai)\n",
    "thai_df['token'] = thai_df['token'].apply(prepare_thai)\n",
    "thai_df['sep_token'] = thai_df['token'].apply(seperate_txt)"
   ]
  },
  {
   "cell_type": "code",
   "execution_count": 10,
   "id": "44bb1d63",
   "metadata": {
    "execution": {
     "iopub.execute_input": "2024-05-06T17:08:45.577082Z",
     "iopub.status.busy": "2024-05-06T17:08:45.576716Z",
     "iopub.status.idle": "2024-05-06T17:08:45.645612Z",
     "shell.execute_reply": "2024-05-06T17:08:45.644500Z"
    },
    "papermill": {
     "duration": 0.080153,
     "end_time": "2024-05-06T17:08:45.648165",
     "exception": false,
     "start_time": "2024-05-06T17:08:45.568012",
     "status": "completed"
    },
    "tags": []
   },
   "outputs": [],
   "source": [
    "import requests\n",
    "url = \"https://api.aiforthai.in.th/tpos\"\n",
    " \n",
    "# params = {'text':'สวัสดีคุณ'}\n",
    "headers = {\n",
    "    'Apikey': \"uBqPAel8u1k3wE7qeMVHnz1Wpngj6VDR\",\n",
    "    }\n",
    " \n",
    "# response = requests.get(url, headers=headers, params=params)\n",
    "\n",
    "# data = list(zip(response.json()['words'],response.json()['tags']))[0]\n",
    "# print(data)\n",
    "def meaning_clean(txt):\n",
    "    tokens = []\n",
    "    for i in txt:\n",
    "        response = requests.get(url, headers=headers, params={'text':i})\n",
    "        tokens.extend(list(zip(response.json()['words'],response.json()['tags'])))\n",
    "    return tokens"
   ]
  },
  {
   "cell_type": "code",
   "execution_count": 11,
   "id": "f03bcd9a",
   "metadata": {
    "execution": {
     "iopub.execute_input": "2024-05-06T17:08:45.662589Z",
     "iopub.status.busy": "2024-05-06T17:08:45.662208Z",
     "iopub.status.idle": "2024-05-06T17:12:58.806054Z",
     "shell.execute_reply": "2024-05-06T17:12:58.805204Z"
    },
    "papermill": {
     "duration": 253.153811,
     "end_time": "2024-05-06T17:12:58.808444",
     "exception": false,
     "start_time": "2024-05-06T17:08:45.654633",
     "status": "completed"
    },
    "tags": []
   },
   "outputs": [
    {
     "name": "stderr",
     "output_type": "stream",
     "text": [
      "100%|██████████| 104/104 [04:13<00:00,  2.43s/it]\n"
     ]
    }
   ],
   "source": [
    "words_meaning = []\n",
    "for i in tqdm(thai_df['sep_token']):\n",
    "    words_meaning.append(meaning_clean(i))"
   ]
  },
  {
   "cell_type": "code",
   "execution_count": 12,
   "id": "f12f6fa0",
   "metadata": {
    "execution": {
     "iopub.execute_input": "2024-05-06T17:12:58.835957Z",
     "iopub.status.busy": "2024-05-06T17:12:58.835573Z",
     "iopub.status.idle": "2024-05-06T17:12:58.889923Z",
     "shell.execute_reply": "2024-05-06T17:12:58.888943Z"
    },
    "papermill": {
     "duration": 0.070574,
     "end_time": "2024-05-06T17:12:58.892042",
     "exception": false,
     "start_time": "2024-05-06T17:12:58.821468",
     "status": "completed"
    },
    "tags": []
   },
   "outputs": [
    {
     "name": "stderr",
     "output_type": "stream",
     "text": [
      "100%|██████████| 104/104 [00:00<00:00, 2401.96it/s]\n"
     ]
    }
   ],
   "source": [
    "w_t_total = []\n",
    "word_mean= []\n",
    "choosen = ['ADV','AUX','CD','CL','CNJ','COMP','DDEM','DINT','DPER','FXAJ','FXAV','FXG','FXN','FWA','FWN','FWV','FWX','IJ','JJA','JJV','NEG','OD','P','PAR','PDEM','PDT','PINT','PPER','PU','REFX','X','NR']\n",
    "for j in tqdm(words_meaning):\n",
    "    w = []\n",
    "    t = []\n",
    "    for i in j:\n",
    "        w.append(i[0])\n",
    "        t.append(i[1])\n",
    "    merged_string_w = ''.join(w)\n",
    "    result_w = merged_string_w.split()\n",
    "    merged_string_t = ''.join(t)\n",
    "    result_t = merged_string_t.split()\n",
    "    for i in range(len(result_w)):\n",
    "        if result_t[i] not in choosen:\n",
    "            w_t_total.append(result_w[i])\n",
    "            \n",
    "    word_mean.append(w_t_total)\n",
    "    w_t_total = []\n",
    "        "
   ]
  },
  {
   "cell_type": "code",
   "execution_count": 13,
   "id": "8f591834",
   "metadata": {
    "execution": {
     "iopub.execute_input": "2024-05-06T17:12:58.920013Z",
     "iopub.status.busy": "2024-05-06T17:12:58.919608Z",
     "iopub.status.idle": "2024-05-06T17:12:58.931469Z",
     "shell.execute_reply": "2024-05-06T17:12:58.930473Z"
    },
    "papermill": {
     "duration": 0.028149,
     "end_time": "2024-05-06T17:12:58.933540",
     "exception": false,
     "start_time": "2024-05-06T17:12:58.905391",
     "status": "completed"
    },
    "tags": []
   },
   "outputs": [
    {
     "data": {
      "text/plain": [
       "0    [จากไป, ตั้ง, มี, เข้ามา, เดิน, แยกทาง, แล้วก็...\n",
       "1    [รู้สึก, ยังไง, เก็บ, เอาไว้, คิด, บอก, เอ่ยปา...\n",
       "2    [รู้, เท่าไหร่, จำ, จำเป็นต้อง, แอบ, รัก, ต่อใ...\n",
       "3    [ชื่อ, อะ, หอย, น่ารัก, มี, หัวใจ, กิน, ออก, เ...\n",
       "4    [มี, ดาว, โคจร, อวกาศ, วันนั้น, มองโลก, เหมือน...\n",
       "Name: meaning_tokens, dtype: object"
      ]
     },
     "execution_count": 13,
     "metadata": {},
     "output_type": "execute_result"
    }
   ],
   "source": [
    "thai_df['meaning_tokens'] = word_mean\n",
    "thai_df['meaning_tokens'].head()"
   ]
  },
  {
   "cell_type": "code",
   "execution_count": 14,
   "id": "97da928f",
   "metadata": {
    "execution": {
     "iopub.execute_input": "2024-05-06T17:12:58.961682Z",
     "iopub.status.busy": "2024-05-06T17:12:58.961318Z",
     "iopub.status.idle": "2024-05-06T17:12:58.968720Z",
     "shell.execute_reply": "2024-05-06T17:12:58.967708Z"
    },
    "papermill": {
     "duration": 0.023888,
     "end_time": "2024-05-06T17:12:58.970812",
     "exception": false,
     "start_time": "2024-05-06T17:12:58.946924",
     "status": "completed"
    },
    "tags": []
   },
   "outputs": [],
   "source": [
    "thai_corpus = []\n",
    "for i in thai_df['meaning_tokens']:\n",
    "    thai_corpus.extend(i)\n",
    "thai_corpus = pd.Series(list(set(thai_corpus)))"
   ]
  },
  {
   "cell_type": "code",
   "execution_count": 15,
   "id": "c6711fa0",
   "metadata": {
    "execution": {
     "iopub.execute_input": "2024-05-06T17:12:58.999250Z",
     "iopub.status.busy": "2024-05-06T17:12:58.998865Z",
     "iopub.status.idle": "2024-05-06T17:12:59.008922Z",
     "shell.execute_reply": "2024-05-06T17:12:59.008047Z"
    },
    "papermill": {
     "duration": 0.027019,
     "end_time": "2024-05-06T17:12:59.011172",
     "exception": false,
     "start_time": "2024-05-06T17:12:58.984153",
     "status": "completed"
    },
    "tags": []
   },
   "outputs": [],
   "source": [
    "thai_corpus.to_csv('/kaggle/working/thai_words.csv')"
   ]
  },
  {
   "cell_type": "markdown",
   "id": "afa25c6d",
   "metadata": {
    "papermill": {
     "duration": 0.013622,
     "end_time": "2024-05-06T17:12:59.038406",
     "exception": false,
     "start_time": "2024-05-06T17:12:59.024784",
     "status": "completed"
    },
    "tags": []
   },
   "source": [
    "## similarity"
   ]
  },
  {
   "cell_type": "code",
   "execution_count": 16,
   "id": "81f2e115",
   "metadata": {
    "execution": {
     "iopub.execute_input": "2024-05-06T17:12:59.067000Z",
     "iopub.status.busy": "2024-05-06T17:12:59.065946Z",
     "iopub.status.idle": "2024-05-06T17:12:59.070896Z",
     "shell.execute_reply": "2024-05-06T17:12:59.069966Z"
    },
    "papermill": {
     "duration": 0.021163,
     "end_time": "2024-05-06T17:12:59.072899",
     "exception": false,
     "start_time": "2024-05-06T17:12:59.051736",
     "status": "completed"
    },
    "tags": []
   },
   "outputs": [],
   "source": [
    "# !pip install -U sentence-transformers"
   ]
  },
  {
   "cell_type": "code",
   "execution_count": 17,
   "id": "1c694cdd",
   "metadata": {
    "execution": {
     "iopub.execute_input": "2024-05-06T17:12:59.101121Z",
     "iopub.status.busy": "2024-05-06T17:12:59.100780Z",
     "iopub.status.idle": "2024-05-06T17:12:59.105372Z",
     "shell.execute_reply": "2024-05-06T17:12:59.104342Z"
    },
    "papermill": {
     "duration": 0.021275,
     "end_time": "2024-05-06T17:12:59.107389",
     "exception": false,
     "start_time": "2024-05-06T17:12:59.086114",
     "status": "completed"
    },
    "tags": []
   },
   "outputs": [],
   "source": [
    "# from sentence_transformers import SentenceTransformer, util\n",
    "# model = SentenceTransformer('sentence-transformers/paraphrase-multilingual-MiniLM-L12-v2')\n",
    "# def Sim_score(sentences_th,lda_pro_th,embeddings_en,lda_pro_en):\n",
    "#     embeddings_th = model.encode(sentences_th, convert_to_tensor=True)\n",
    "#     embeddings_en = model.encode(sentences_en, convert_to_tensor=True)\n",
    "#     cosine_scores = util.pytorch_cos_sim(embeddings_th, embeddings_en)\n",
    "#     score = []\n",
    "#     for i, th_sentence in enumerate(sentences_th):\n",
    "#         for j, en_sentence in enumerate(sentences_en):\n",
    "#             similarity_score = float(cosine_scores[i][j])\n",
    "#             sim_score = float(lda_pro_th[i] * lda_pro_en[j] * similarity_score)\n",
    "#             score.append([th_sentence,en_sentence,lda_pro_th[i],lda_pro_en[j],round(similarity_score,3),round(sim_score,3)])\n",
    "#     return score\n",
    "    "
   ]
  }
 ],
 "metadata": {
  "kaggle": {
   "accelerator": "none",
   "dataSources": [
    {
     "datasetId": 4912811,
     "sourceId": 8273867,
     "sourceType": "datasetVersion"
    },
    {
     "datasetId": 4936902,
     "sourceId": 8310698,
     "sourceType": "datasetVersion"
    }
   ],
   "dockerImageVersionId": 30698,
   "isGpuEnabled": false,
   "isInternetEnabled": true,
   "language": "python",
   "sourceType": "notebook"
  },
  "kernelspec": {
   "display_name": "Python 3",
   "language": "python",
   "name": "python3"
  },
  "language_info": {
   "codemirror_mode": {
    "name": "ipython",
    "version": 3
   },
   "file_extension": ".py",
   "mimetype": "text/x-python",
   "name": "python",
   "nbconvert_exporter": "python",
   "pygments_lexer": "ipython3",
   "version": "3.10.13"
  },
  "papermill": {
   "default_parameters": {},
   "duration": 277.453813,
   "end_time": "2024-05-06T17:13:00.645250",
   "environment_variables": {},
   "exception": null,
   "input_path": "__notebook__.ipynb",
   "output_path": "__notebook__.ipynb",
   "parameters": {},
   "start_time": "2024-05-06T17:08:23.191437",
   "version": "2.5.0"
  }
 },
 "nbformat": 4,
 "nbformat_minor": 5
}
